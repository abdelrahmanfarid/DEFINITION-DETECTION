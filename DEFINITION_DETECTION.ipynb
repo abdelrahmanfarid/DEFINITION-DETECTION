{
  "nbformat": 4,
  "nbformat_minor": 0,
  "metadata": {
    "colab": {
      "name": "nlp.ipynb",
      "provenance": [],
      "collapsed_sections": [],
      "machine_shape": "hm"
    },
    "kernelspec": {
      "name": "python3",
      "display_name": "Python 3"
    },
    "accelerator": "GPU"
  },
  "cells": [
    {
      "cell_type": "code",
      "metadata": {
        "id": "TJzyHg6fuZdW",
        "colab_type": "code",
        "colab": {}
      },
      "source": [
        "! wget 'https://github.com/adobe-research/deft_corpus/archive/master.zip'\n",
        "! unzip master.zip\n",
        "! mkdir trainingFiles\n",
        "! mkdir testingFiles"
      ],
      "execution_count": 0,
      "outputs": []
    },
    {
      "cell_type": "code",
      "metadata": {
        "id": "IIh_QRYVEWAZ",
        "colab_type": "code",
        "colab": {}
      },
      "source": [
        "! ls"
      ],
      "execution_count": 0,
      "outputs": []
    },
    {
      "cell_type": "code",
      "metadata": {
        "id": "Gjar39dF_JaG",
        "colab_type": "code",
        "colab": {}
      },
      "source": [
        "! python3 deft_corpus-master/task1_converter.py deft_corpus-master/data/deft_files/train trainingFiles\n",
        "! python3 deft_corpus-master/task1_converter.py deft_corpus-master/data/deft_files/dev testingFiles"
      ],
      "execution_count": 0,
      "outputs": []
    },
    {
      "cell_type": "code",
      "metadata": {
        "id": "Z9vgvQfzwdZX",
        "colab_type": "code",
        "colab": {}
      },
      "source": [
        "# testing...\n",
        "! head trainingFiles/task_1_t1_biology_0_0.deft"
      ],
      "execution_count": 0,
      "outputs": []
    },
    {
      "cell_type": "code",
      "metadata": {
        "id": "pxDTDMMU6zEC",
        "colab_type": "code",
        "colab": {}
      },
      "source": [
        "%load_ext cython\n",
        "import os\n",
        "import io\n",
        "import numpy as np\n",
        "import pandas as pd\n",
        "from pandas import DataFrame\n",
        "from sklearn import metrics\n",
        "from sklearn.feature_extraction.text import CountVectorizer\n",
        "from sklearn.feature_extraction.text import TfidfVectorizer\n",
        "from sklearn.model_selection import train_test_split\n",
        "from sklearn.naive_bayes import MultinomialNB\n",
        "from sklearn.metrics import f1_score\n",
        "import nltk\n",
        "import re\n",
        "from nltk.stem import WordNetLemmatizer\n",
        "import time\n",
        "import multiprocessing\n",
        "from gensim.models import word2vec\n",
        "from bs4 import BeautifulSoup\n",
        "from sklearn.tree import DecisionTreeClassifier\n",
        "from sklearn.svm import SVC\n",
        "from sklearn.neighbors import KNeighborsClassifier\n",
        "from sklearn.metrics import accuracy_score\n",
        "from sklearn import linear_model\n",
        "from sklearn.metrics import roc_auc_score\n",
        "nltk.download('wordnet')\n",
        "nltk.download('punkt')\n",
        "nltk.download('stopwords')\n",
        "from nltk.corpus import stopwords\n",
        "from nltk.stem import WordNetLemmatizer\n",
        "from sklearn.model_selection import train_test_split\n",
        "import matplotlib.pyplot as plt\n",
        "%matplotlib inline\n",
        "\n",
        "import seaborn as sns\n",
        "sns.set_style(\"darkgrid\")\n",
        "\n",
        "from sklearn.decomposition import PCA\n",
        "from sklearn.manifold import TSNE\n",
        "\n",
        "import matplotlib.pyplot as plt; \n",
        "plt.rcdefaults()\n",
        "\n",
        "import statistics"
      ],
      "execution_count": 0,
      "outputs": []
    },
    {
      "cell_type": "code",
      "metadata": {
        "id": "y0TN9Xm8mlqp",
        "colab_type": "code",
        "colab": {}
      },
      "source": [
        "lemmatizer = WordNetLemmatizer()\n",
        "stops = set(stopwords.words('english'))\n",
        "\n",
        "from nltk.tokenize import RegexpTokenizer\n",
        "\n",
        "tokenizer = RegexpTokenizer(r'\\w+')\n",
        "\n",
        "def text_processing(text):\n",
        "    text = text.lower() \n",
        "    \n",
        "    #Split into individual words on whitespace and remove punctuation\n",
        "    words = tokenizer.tokenize(text)\n",
        "    # words = words.split()\n",
        "    \n",
        "    words = [lemmatizer.lemmatize(w) for w in words]   \n",
        "    \n",
        "    return ' '.join(words)"
      ],
      "execution_count": 0,
      "outputs": []
    },
    {
      "cell_type": "code",
      "metadata": {
        "id": "7sjEPUL16q-8",
        "colab_type": "code",
        "cellView": "both",
        "colab": {}
      },
      "source": [
        "def readFiles(directoryName, process):\n",
        "    tempDataFrames = []\n",
        "    for root, dirs, files in os.walk(directoryName):\n",
        "        for name in files:\n",
        "            path = os.path.join(root, name)\n",
        "            \n",
        "            # Data is a panda dataframe\n",
        "            data = pd.read_csv(path, sep=\"\\t\")\n",
        "            data.columns = [\"text\", \"classifier\"]\n",
        "            if process:\n",
        "                data[\"text\"] = data[\"text\"].apply(text_processing)\n",
        "\n",
        "            tempDataFrames.append(data)\n",
        "    return pd.concat(tempDataFrames, axis=0, ignore_index=False)"
      ],
      "execution_count": 0,
      "outputs": []
    },
    {
      "cell_type": "code",
      "metadata": {
        "id": "AkA4Fcf3zzFI",
        "colab_type": "code",
        "colab": {}
      },
      "source": [
        "trainingFrame = readFiles(\"trainingFiles\", False)\n",
        "testingFrame = readFiles(\"testingFiles\", False)\n",
        "trainingFrame.head()"
      ],
      "execution_count": 0,
      "outputs": []
    },
    {
      "cell_type": "code",
      "metadata": {
        "id": "yUF1-hAwlnxG",
        "colab_type": "code",
        "colab": {}
      },
      "source": [
        "# trainingFrame, validationFrame = train_test_split(trainingFrame, test_size=0.1)"
      ],
      "execution_count": 0,
      "outputs": []
    },
    {
      "cell_type": "code",
      "metadata": {
        "id": "Dj54UiaQ3Wcn",
        "colab_type": "code",
        "colab": {}
      },
      "source": [
        "trainingFrame.reset_index(inplace=True)\n",
        "trainingFrame.sort_index(inplace=True)\n",
        "\n",
        "testingFrame.reset_index(inplace=True)\n",
        "testingFrame.sort_index(inplace=True)\n",
        "\n",
        "# validationFrame.reset_index(inplace=True)\n",
        "# validationFrame.sort_index(inplace=True)"
      ],
      "execution_count": 0,
      "outputs": []
    },
    {
      "cell_type": "code",
      "metadata": {
        "id": "QgOaOUTt4wdn",
        "colab_type": "code",
        "colab": {}
      },
      "source": [
        "trainingFrame"
      ],
      "execution_count": 0,
      "outputs": []
    },
    {
      "cell_type": "code",
      "metadata": {
        "id": "xf4di_Cx8dxt",
        "colab_type": "code",
        "colab": {}
      },
      "source": [
        "len(testingFrame)"
      ],
      "execution_count": 0,
      "outputs": []
    },
    {
      "cell_type": "code",
      "metadata": {
        "id": "WH8gSMrCB8ke",
        "colab_type": "code",
        "colab": {}
      },
      "source": [
        "print(len(trainingFrame[trainingFrame.classifier==0]))\n",
        "print(len(trainingFrame[trainingFrame.classifier==1]))\n",
        "print(len(testingFrame[testingFrame.classifier==0]))\n",
        "print(len(testingFrame[testingFrame.classifier==1]))"
      ],
      "execution_count": 0,
      "outputs": []
    },
    {
      "cell_type": "code",
      "metadata": {
        "id": "KngrPYmzFxmL",
        "colab_type": "code",
        "colab": {}
      },
      "source": [
        "trainingFrame_classifiers = trainingFrame[\"classifier\"]\n",
        "trainingFrame_text = trainingFrame[\"text\"]\n",
        "\n",
        "testingFrame_classifiers = testingFrame[\"classifier\"]\n",
        "testingFrame_text = testingFrame[\"text\"]\n",
        "\n",
        "testingFrame_classifiers = testingFrame_classifiers.to_numpy('int')\n",
        "trainingFrame_classifiers = trainingFrame_classifiers.to_numpy('int')"
      ],
      "execution_count": 0,
      "outputs": []
    },
    {
      "cell_type": "code",
      "metadata": {
        "id": "PoqjD0cRHklI",
        "colab_type": "code",
        "colab": {}
      },
      "source": [
        "# max_features = 30000\n",
        "cvnoignore = CountVectorizer(analyzer='word')\n",
        "#cvnoignore=CountVectorizer(min_df=1,stop_words='english', analyzer='word')\n",
        "cvignore = TfidfVectorizer(min_df=1,stop_words='english', analyzer='word')\n",
        "#cvignore=TfidfVectorizer()"
      ],
      "execution_count": 0,
      "outputs": []
    },
    {
      "cell_type": "code",
      "metadata": {
        "id": "cioxRo7SK_vn",
        "colab_type": "code",
        "colab": {}
      },
      "source": [
        "training_cvnoignore=cvnoignore.fit_transform(trainingFrame_text)\n",
        "training_cvignore=cvignore.fit_transform(trainingFrame_text)"
      ],
      "execution_count": 0,
      "outputs": []
    },
    {
      "cell_type": "code",
      "metadata": {
        "id": "Qmo1QlyCMnNw",
        "colab_type": "code",
        "colab": {}
      },
      "source": [
        "mnbnoignore=MultinomialNB()\n",
        "mnbignore=MultinomialNB()"
      ],
      "execution_count": 0,
      "outputs": []
    },
    {
      "cell_type": "code",
      "metadata": {
        "id": "m9wOYj5QUFPY",
        "colab_type": "code",
        "colab": {}
      },
      "source": [
        "mnbnoignore.fit(training_cvnoignore,trainingFrame_classifiers)\n",
        "mnbignore.fit(training_cvignore,trainingFrame_classifiers)\n",
        "testing_cvnoignore=cvnoignore.transform(testingFrame_text)\n",
        "testing_cvignore=cvignore.transform(testingFrame_text)\n",
        "\n",
        "prednoignore=mnbnoignore.predict(testing_cvnoignore)\n",
        "predignore=mnbignore.predict(testing_cvignore)\n",
        "print(accuracy_score(testingFrame_classifiers, prednoignore))\n",
        "print(f1_score(testingFrame_classifiers,prednoignore,average='macro'))\n",
        "print(f1_score(testingFrame_classifiers,predignore,average='macro'))\n",
        "print(f1_score(testingFrame_classifiers,prednoignore,average='micro'))\n",
        "print(f1_score(testingFrame_classifiers,predignore,average='micro'))\n",
        "print(f1_score(testingFrame_classifiers,prednoignore,average='binary'))\n",
        "print(f1_score(testingFrame_classifiers,predignore,average='binary'))\n",
        "print(f1_score(testingFrame_classifiers,prednoignore,pos_label=1))\n",
        "print(f1_score(testingFrame_classifiers,predignore,pos_label=1))"
      ],
      "execution_count": 0,
      "outputs": []
    },
    {
      "cell_type": "code",
      "metadata": {
        "id": "XJ-g_1HzhD2Z",
        "colab_type": "code",
        "colab": {}
      },
      "source": [
        "print (len(prednoignore))\n",
        "a=training_cvignore.toarray()\n",
        "print(len(a[0]))\n",
        "b=training_cvnoignore.toarray()\n",
        "print(len(b[0]))"
      ],
      "execution_count": 0,
      "outputs": []
    },
    {
      "cell_type": "code",
      "metadata": {
        "id": "yHeL7p94rbWB",
        "colab_type": "code",
        "colab": {}
      },
      "source": [
        "sentences = [sent.split() for sent in trainingFrame_text]"
      ],
      "execution_count": 0,
      "outputs": []
    },
    {
      "cell_type": "code",
      "metadata": {
        "id": "RDgdBe4UdXEX",
        "colab_type": "code",
        "colab": {}
      },
      "source": [
        "from gensim.test.utils import common_texts, get_tmpfile\n",
        "from gensim.models import Word2Vec\n",
        "\n",
        "num_features = 300    # Word vector dimensionality                      \n",
        "min_word_count = 1   # Minimum word count                        \n",
        "cores = multiprocessing.cpu_count()       # Number of threads to run in parallel\n",
        "context = 5         # Context window size                                                                                    \n",
        "\n",
        "model = word2vec.Word2Vec(sentences, workers=cores - 1, \\\n",
        "            size=num_features, min_count = min_word_count, \\\n",
        "            window = context, iter=6)\n",
        "\n",
        "model.train(sentences=sentences, total_examples=len(sentences), epochs=10)\n",
        "\n",
        "model.init_sims(replace=True)"
      ],
      "execution_count": 0,
      "outputs": []
    },
    {
      "cell_type": "code",
      "metadata": {
        "id": "6WRY4rI0TtTA",
        "colab_type": "code",
        "colab": {}
      },
      "source": [
        "model.wv.vectors.shape"
      ],
      "execution_count": 0,
      "outputs": []
    },
    {
      "cell_type": "code",
      "metadata": {
        "id": "flcZsKYVUjeK",
        "colab_type": "code",
        "colab": {}
      },
      "source": [
        "numWords = 0\n",
        "sentenceSize = []\n",
        "def getVecForSent(sent, vocab_set):\n",
        "    global numWords, sentenceSize\n",
        "    vec = np.zeros(num_features, dtype=\"float32\")\n",
        "    num_words_in_sent = 0\n",
        "    # sent = sent.split(' ')\n",
        "    newsent = sent.split(' ')\n",
        "    for word in newsent:\n",
        "        if word in vocab_set:\n",
        "            vec = np.add(vec, model[word])\n",
        "            num_words_in_sent += 1\n",
        "\n",
        "    \n",
        "    numWords += num_words_in_sent\n",
        "    sentenceSize.append(num_words_in_sent)\n",
        "\n",
        "    if num_words_in_sent == 0:\n",
        "        return vec\n",
        "    \n",
        "    vec = np.divide(vec, num_words_in_sent)\n",
        "    return vec\n",
        "\n",
        "def getAverageFeatureVectors(df):\n",
        "    global numWords, sentenceSize\n",
        "    vocab_set = set(model.wv.index2word)\n",
        "    numWords = 0\n",
        "    sentenceSize = []\n",
        "    \n",
        "    featureVecs = np.zeros((len(df), num_features),dtype=\"float32\")\n",
        "\n",
        "    for i, sent in enumerate(df):\n",
        "        vec = getVecForSent(sent, vocab_set)\n",
        "        featureVecs[i] = vec\n",
        "\n",
        "    print('\\n\\n*********************************************')\n",
        "    print('Average word size of sentence ', numWords // len(df))\n",
        "    print('Standard deviation : ' , statistics.stdev(sentenceSize))\n",
        "    print('*********************************************')\n",
        "\n",
        "    \n",
        "    return featureVecs\n",
        "\n",
        "\n",
        "trainingFeatureVecs = getAverageFeatureVectors(trainingFrame_text)\n",
        "testingFeatureVecs = getAverageFeatureVectors(testingFrame_text)"
      ],
      "execution_count": 0,
      "outputs": []
    },
    {
      "cell_type": "code",
      "metadata": {
        "id": "cS008lLgiVfV",
        "colab_type": "code",
        "colab": {}
      },
      "source": [
        "len(trainingFrame_text)"
      ],
      "execution_count": 0,
      "outputs": []
    },
    {
      "cell_type": "code",
      "metadata": {
        "id": "lYansprKgD23",
        "colab_type": "code",
        "colab": {}
      },
      "source": [
        "print(len(model.wv.vocab))\n",
        "l = set([w for s in sentences for w in s])\n",
        "print(len(l))"
      ],
      "execution_count": 0,
      "outputs": []
    },
    {
      "cell_type": "code",
      "metadata": {
        "id": "-DvE4oTo4udq",
        "colab_type": "code",
        "colab": {}
      },
      "source": [
        "list(model.wv.vocab)[0:20]"
      ],
      "execution_count": 0,
      "outputs": []
    },
    {
      "cell_type": "code",
      "metadata": {
        "id": "rvc9WW9hDyHV",
        "colab_type": "code",
        "colab": {}
      },
      "source": [
        "model.most_similar('correct')"
      ],
      "execution_count": 0,
      "outputs": []
    },
    {
      "cell_type": "code",
      "metadata": {
        "id": "gLq6UeKR0YVr",
        "colab_type": "code",
        "colab": {}
      },
      "source": [
        "def printInfo(prediction, actual, typeStr):\n",
        "    sz = len(prediction)\n",
        "    assert(len(prediction) == len(actual))\n",
        "\n",
        "    tp = fp = tn = fn = 0\n",
        "    for i in range(sz):\n",
        "        if actual[i] == 1:\n",
        "            if prediction[i] == 1:\n",
        "                tp += 1\n",
        "            else:\n",
        "                fp += 1\n",
        "        else:\n",
        "            if prediction[i] == 0:\n",
        "                tn += 1\n",
        "            else:\n",
        "                fn += 1\n",
        "    print(\"Total size\", sz)\n",
        "    print(\"True positive\", tp)\n",
        "    print(\"True negative\", tn)\n",
        "    print(\"False positive\", fp)\n",
        "    print(\"False negative\", fn, '\\n\\n')\n",
        "\n",
        "    objects = ('TP', 'TN', 'FP', 'FN')\n",
        "    y_pos = np.arange(len(objects))\n",
        "    performance = [tp, tn, fp, fn]\n",
        "\n",
        "    plt.bar(y_pos, performance, align='center', alpha=0.5)\n",
        "    plt.xticks(y_pos, objects)\n",
        "    title = 'Confusion matrix ' + typeStr\n",
        "    plt.title(title)\n",
        "    plt.show()\n",
        "\n",
        "# printInfo(result, testingFrame_classifiers, 'KNN')"
      ],
      "execution_count": 0,
      "outputs": []
    },
    {
      "cell_type": "code",
      "metadata": {
        "id": "t0HX-O4ejNGq",
        "colab_type": "code",
        "outputId": "f9b4e579-f8ab-4e62-af32-3dda961de0a5",
        "colab": {
          "base_uri": "https://localhost:8080/",
          "height": 571
        }
      },
      "source": [
        "printInfo(prednoignore, testingFrame_classifiers, 'Naive Bayes')"
      ],
      "execution_count": 0,
      "outputs": [
        {
          "output_type": "stream",
          "text": [
            "Total size 782\n",
            "True positive 152\n",
            "True negative 441\n",
            "False positive 99\n",
            "False negative 90 \n",
            "\n",
            "\n"
          ],
          "name": "stdout"
        },
        {
          "output_type": "display_data",
          "data": {
            "image/png": "[encoded data removed]",
            "text/plain": [
              "<Figure size 640x480 with 1 Axes>"
            ]
          },
          "metadata": {
            "tags": []
          }
        }
      ]
    },
    {
      "cell_type": "code",
      "metadata": {
        "id": "BVfamT27ZwA-",
        "colab_type": "code",
        "colab": {}
      },
      "source": [
        "from sklearn.linear_model import LogisticRegression\n",
        "from sklearn.metrics import classification_report\n",
        "\n",
        "target_names = ['not a definition', 'is a definition']\n",
        "\n",
        "forest = LogisticRegression().fit( trainingFeatureVecs, trainingFrame_classifiers)\n",
        "\n",
        "result = forest.predict( testingFeatureVecs )\n",
        "\n",
        "print(classification_report(testingFrame_classifiers, result, target_names=target_names))\n",
        "print('\\n\\ntotal f1 score', f1_score(testingFrame_classifiers, result, average='binary'))\n",
        "print('total accuracy', accuracy_score(testingFrame_classifiers, result), '\\n\\n')\n",
        "\n",
        "printInfo(result, testingFrame_classifiers, 'Logistic Regression')"
      ],
      "execution_count": 0,
      "outputs": []
    },
    {
      "cell_type": "code",
      "metadata": {
        "id": "GTQhjtcpshTL",
        "colab_type": "code",
        "colab": {}
      },
      "source": [
        "classifier_model = KNeighborsClassifier(n_neighbors=20)\n",
        "\n",
        "clf = classifier_model.fit( trainingFeatureVecs, trainingFrame_classifiers )\n",
        "\n",
        "result = clf.predict( testingFeatureVecs )\n",
        "\n",
        "\n",
        "print(classification_report(testingFrame_classifiers, result, target_names=target_names))\n",
        "print('\\n\\ntotal f1 score', f1_score(testingFrame_classifiers, result, average='binary'))\n",
        "print('total accuracy', accuracy_score(testingFrame_classifiers, result), '\\n\\n')\n",
        "\n",
        "printInfo(result, testingFrame_classifiers, 'K neighbours')"
      ],
      "execution_count": 0,
      "outputs": []
    },
    {
      "cell_type": "code",
      "metadata": {
        "id": "jSmUFV12xMC3",
        "colab_type": "code",
        "colab": {}
      },
      "source": [
        "\n",
        "classifier_model = DecisionTreeClassifier()\n",
        "\n",
        "clf = classifier_model.fit( trainingFeatureVecs, trainingFrame_classifiers )\n",
        "\n",
        "result = clf.predict( testingFeatureVecs )\n",
        "\n",
        "print(classification_report(testingFrame_classifiers, result, target_names=target_names))\n",
        "print('\\n\\ntotal f1 score', f1_score(testingFrame_classifiers, result, average='binary'))\n",
        "print('total accuracy', accuracy_score(testingFrame_classifiers, result), '\\n\\n')\n",
        "\n",
        "\n",
        "printInfo(result, testingFrame_classifiers, 'Decision tree')"
      ],
      "execution_count": 0,
      "outputs": []
    },
    {
      "cell_type": "code",
      "metadata": {
        "id": "R3BNx6jbILeZ",
        "colab_type": "code",
        "colab": {}
      },
      "source": [
        "from sklearn.ensemble import RandomForestClassifier\n",
        "classifier_model = RandomForestClassifier()\n",
        "\n",
        "clf = classifier_model.fit( trainingFeatureVecs, trainingFrame_classifiers)\n",
        "\n",
        "result = clf.predict( testingFeatureVecs )\n",
        "\n",
        "print(classification_report(testingFrame_classifiers, result, target_names=target_names))\n",
        "print('\\n\\ntotal f1 score', f1_score(testingFrame_classifiers, result, average='binary'))\n",
        "print('total accuracy', accuracy_score(testingFrame_classifiers, result), '\\n\\n')\n",
        "\n",
        "\n",
        "printInfo(result, testingFrame_classifiers, 'Random forest')"
      ],
      "execution_count": 0,
      "outputs": []
    },
    {
      "cell_type": "code",
      "metadata": {
        "id": "uCkLe3o3dCtW",
        "colab_type": "code",
        "colab": {}
      },
      "source": [
        "# from sklearn.neural_network import MLPClassifier\n",
        "\n",
        "# clf = MLPClassifier(hidden_layer_sizes=(100, 100, 100), max_iter=2000, alpha=0.0001,\n",
        "#                      solver='sgd',  verbose=True, random_state=21,tol=0.00001)\n",
        "\n",
        "# clf.fit(trainingFeatureVecs, trainingFrame_classifiers)\n",
        "\n",
        "# result = clf.predict( testingFeatureVecs )\n",
        "# print(f1_score(testingFrame_classifiers, result, average='binary'))\n",
        "# print(accuracy_score(testingFrame_classifiers, result))\n",
        "# printInfo(result, testingFrame_classifiers, 'MLP')"
      ],
      "execution_count": 0,
      "outputs": []
    },
    {
      "cell_type": "code",
      "metadata": {
        "id": "VSXigcNFDw0a",
        "colab_type": "code",
        "colab": {}
      },
      "source": [
        "mnbnoignore=LogisticRegression()\n",
        "mnbnoignore.fit(training_cvnoignore,trainingFrame_classifiers)\n",
        "testing_cvnoignore=cvnoignore.transform(testingFrame_text)\n",
        "prednoignore=mnbnoignore.predict(testing_cvnoignore)\n",
        "print(accuracy_score(testingFrame_classifiers, prednoignore))\n",
        "print(f1_score(testingFrame_classifiers,prednoignore,average='binary'))\n",
        "print(classification_report(testingFrame_classifiers, prednoignore, target_names=target_names))\n",
        "print('\\n\\ntotal f1 score', f1_score(testingFrame_classifiers, prednoignore, average='binary'))\n",
        "print('total accuracy', accuracy_score(testingFrame_classifiers, prednoignore), '\\n\\n')\n",
        "printInfo(prednoignore, testingFrame_classifiers, 'logistic regression')"
      ],
      "execution_count": 0,
      "outputs": []
    },
    {
      "cell_type": "code",
      "metadata": {
        "id": "Why937xwFoIB",
        "colab_type": "code",
        "colab": {}
      },
      "source": [
        "mnbnoignore=DecisionTreeClassifier()\n",
        "mnbnoignore.fit(training_cvnoignore,trainingFrame_classifiers)\n",
        "testing_cvnoignore=cvnoignore.transform(testingFrame_text)\n",
        "prednoignore=mnbnoignore.predict(testing_cvnoignore)\n",
        "print(accuracy_score(testingFrame_classifiers, prednoignore))\n",
        "print(f1_score(testingFrame_classifiers,prednoignore,average='binary'))\n",
        "print(classification_report(testingFrame_classifiers, prednoignore, target_names=target_names))\n",
        "print('\\n\\ntotal f1 score', f1_score(testingFrame_classifiers, prednoignore, average='binary'))\n",
        "print('total accuracy', accuracy_score(testingFrame_classifiers, prednoignore), '\\n\\n')\n",
        "printInfo(prednoignore, testingFrame_classifiers, 'Decision tree')"
      ],
      "execution_count": 0,
      "outputs": []
    },
    {
      "cell_type": "code",
      "metadata": {
        "id": "iAH6ZCQfF5Ch",
        "colab_type": "code",
        "colab": {}
      },
      "source": [
        "mnbnoignore=RandomForestClassifier()\n",
        "mnbnoignore.fit(training_cvnoignore,trainingFrame_classifiers)\n",
        "testing_cvnoignore=cvnoignore.transform(testingFrame_text)\n",
        "prednoignore=mnbnoignore.predict(testing_cvnoignore)\n",
        "print(accuracy_score(testingFrame_classifiers, prednoignore))\n",
        "print(f1_score(testingFrame_classifiers,prednoignore,average='binary'))\n",
        "print(classification_report(testingFrame_classifiers, prednoignore, target_names=target_names))\n",
        "print('\\n\\ntotal f1 score', f1_score(testingFrame_classifiers, prednoignore, average='binary'))\n",
        "print('total accuracy', accuracy_score(testingFrame_classifiers, prednoignore), '\\n\\n')\n",
        "printInfo(prednoignore, testingFrame_classifiers, 'random forest')\n",
        "print(metrics.confusion_matrix(testingFrame_classifiers, prednoignore))"
      ],
      "execution_count": 0,
      "outputs": []
    },
    {
      "cell_type": "code",
      "metadata": {
        "id": "tsZnkMDVGZmR",
        "colab_type": "code",
        "colab": {}
      },
      "source": [
        "mnbnoignore=KNeighborsClassifier(n_neighbors=20)\n",
        "mnbnoignore.fit(training_cvnoignore,trainingFrame_classifiers)\n",
        "testing_cvnoignore=cvnoignore.transform(testingFrame_text)\n",
        "prednoignore=mnbnoignore.predict(testing_cvnoignore)\n",
        "print(accuracy_score(testingFrame_classifiers, prednoignore))\n",
        "print(f1_score(testingFrame_classifiers,prednoignore,average='binary'))\n",
        "print(classification_report(testingFrame_classifiers, prednoignore, target_names=target_names))\n",
        "print('\\n\\ntotal f1 score', f1_score(testingFrame_classifiers, prednoignore, average='binary'))\n",
        "print('total accuracy', accuracy_score(testingFrame_classifiers, prednoignore), '\\n\\n')\n",
        "printInfo(prednoignore, testingFrame_classifiers, 'knn')"
      ],
      "execution_count": 0,
      "outputs": []
    },
    {
      "cell_type": "code",
      "metadata": {
        "id": "wU884aCxbITM",
        "colab_type": "code",
        "colab": {}
      },
      "source": [
        "# f1_score(testingFrame_classifiers, result, average='binary')\n",
        "len(testingFeatureVecs)"
      ],
      "execution_count": 0,
      "outputs": []
    },
    {
      "cell_type": "code",
      "metadata": {
        "id": "-olvuww0eLEX",
        "colab_type": "code",
        "colab": {}
      },
      "source": [
        "# print(testingFeatureVecs)\n",
        "# print(trainingFeatureVecs)\n",
        "# #print(result.shape)\n",
        "# print(testingFrame_classifiers)"
      ],
      "execution_count": 0,
      "outputs": []
    },
    {
      "cell_type": "code",
      "metadata": {
        "id": "xtshnFlY7U6X",
        "colab_type": "code",
        "colab": {}
      },
      "source": [
        "# !wget -P /root/input/ -c \"https://s3.amazonaws.com/dl4j-distribution/GoogleNews-vectors-negative300.bin.gz\""
      ],
      "execution_count": 0,
      "outputs": []
    },
    {
      "cell_type": "code",
      "metadata": {
        "id": "2MwunHvE-1p7",
        "colab_type": "code",
        "colab": {}
      },
      "source": [
        "# import gensim\n",
        "# model = gensim.models.KeyedVectors.load_word2vec_format('/root/input/GoogleNews-vectors-negative300.bin.gz', binary=True)"
      ],
      "execution_count": 0,
      "outputs": []
    },
    {
      "cell_type": "code",
      "metadata": {
        "id": "23SNocNpMg0-",
        "colab_type": "code",
        "colab": {}
      },
      "source": [
        "def printMoreInfo(df):\n",
        "    pos = 0\n",
        "    neg = 0\n",
        "    psize = 0\n",
        "    nsize = 0\n",
        "    for i, sent in enumerate(df['text']):\n",
        "        if df['classifier'][i] == 1:\n",
        "            pos += len(sent.split())\n",
        "            psize += 1\n",
        "        else:\n",
        "            neg += len(sent.split())\n",
        "            nsize += 1\n",
        "    \n",
        "    print('Average number of words in a definition is ' , pos // psize)\n",
        "    print('Average number of words in rest is ' , neg // nsize)\n",
        "\n",
        "# printMoreInfo(trainingFrame)"
      ],
      "execution_count": 0,
      "outputs": []
    },
    {
      "cell_type": "code",
      "metadata": {
        "id": "S0bOuC_oTnpM",
        "colab_type": "code",
        "colab": {}
      },
      "source": [
        "# graph most frequent 100 words\n",
        "vocab = list(model.wv.index2entity[:100])\n",
        "X = model[vocab]\n",
        "\n",
        "tsne = TSNE(n_components=2)\n",
        "X_tsne = tsne.fit_transform(X)\n",
        "\n",
        "df = pd.DataFrame(X_tsne, index=vocab, columns=['x', 'y'])\n",
        "\n",
        "fig = plt.figure()\n",
        "ax = fig.add_subplot(1, 1, 1)\n",
        "\n",
        "ax.scatter(df['x'], df['y'])\n",
        "\n",
        "for word, pos in df.iterrows():\n",
        "    ax.annotate(word, pos)\n",
        "\n",
        "plt.show()"
      ],
      "execution_count": 0,
      "outputs": []
    },
    {
      "cell_type": "code",
      "metadata": {
        "id": "HLUvPHTcA11M",
        "colab_type": "code",
        "colab": {}
      },
      "source": [
        "# from gensim.test.utils import common_texts\n",
        "# from gensim.models.doc2vec import Doc2Vec, TaggedDocument\n",
        "# # documents = [TaggedDocument(doc, [i]) for i, doc in enumerate(common_texts)]\n",
        "# documents = [TaggedDocument(text.split(), [trainingFrame_classifiers[i]]) for i, text in enumerate(trainingFrame['text'])]\n",
        "# model = Doc2Vec(documents, vector_size=300, window=5, min_count=1, workers=4)"
      ],
      "execution_count": 0,
      "outputs": []
    },
    {
      "cell_type": "code",
      "metadata": {
        "id": "FwFGRSKGEvvL",
        "colab_type": "code",
        "colab": {}
      },
      "source": [
        "# model.train(documents=documents, total_examples=len(documents), epochs=10)"
      ],
      "execution_count": 0,
      "outputs": []
    },
    {
      "cell_type": "code",
      "metadata": {
        "id": "83XPpFchBp0D",
        "colab_type": "code",
        "colab": {}
      },
      "source": [
        "# trainingFeatureVecs = [model.infer_vector(sent.split()) for sent in trainingFrame_text]"
      ],
      "execution_count": 0,
      "outputs": []
    },
    {
      "cell_type": "code",
      "metadata": {
        "id": "O_O6Z95aB9Bb",
        "colab_type": "code",
        "colab": {}
      },
      "source": [
        "# testingFeatureVecs = [model.infer_vector(sent.split()) for sent in testingFrame_text]"
      ],
      "execution_count": 0,
      "outputs": []
    },
    {
      "cell_type": "code",
      "metadata": {
        "id": "yxjiFVrQzU_3",
        "colab_type": "code",
        "colab": {}
      },
      "source": [
        "# from gensim.models import FastText\n",
        "# model = FastText(size=4, window=5, min_count=1, sentences=sentences, iter=10)\n"
      ],
      "execution_count": 0,
      "outputs": []
    },
    {
      "cell_type": "code",
      "metadata": {
        "id": "eZgPrdxP1JlK",
        "colab_type": "code",
        "colab": {}
      },
      "source": [
        "# import numpy as np\n",
        "# import pandas as pd\n",
        "\n",
        "# from sklearn.preprocessing import LabelBinarizer\n",
        "# from sklearn.ensemble import RandomForestClassifier\n",
        "# from sklearn.model_selection import train_test_split, GridSearchCV, StratifiedKFold\n",
        "# from sklearn.metrics import roc_curve, precision_recall_curve, auc, make_scorer, recall_score, accuracy_score, precision_score, confusion_matrix\n",
        "\n",
        "# import matplotlib.pyplot as plt\n",
        "# plt.style.use(\"ggplot\")\n",
        "\n",
        "# clf = RandomForestClassifier(n_jobs=-1)\n",
        "\n",
        "# param_grid = {\n",
        "#     # 'min_samples_split': [3, 5, 10], \n",
        "#     'n_estimators' : [100, 300],\n",
        "#     'max_depth': [3, 5, 15, 25],\n",
        "#     # 'max_features': [3, 5, 10, 20]\n",
        "# }\n",
        "\n",
        "# scorers = {\n",
        "#     'f1_score': make_scorer(f1_score),\n",
        "#     'accuracy_score': make_scorer(accuracy_score)\n",
        "# }\n",
        "\n",
        "# def grid_search_wrapper(refit_score='f1_score'):\n",
        "#     \"\"\"\n",
        "#     fits a GridSearchCV classifier using refit_score for optimization\n",
        "#     prints classifier performance metrics\n",
        "#     \"\"\"\n",
        "#     skf = StratifiedKFold(n_splits=10)\n",
        "#     grid_search = GridSearchCV(clf, param_grid, scoring=scorers, refit=refit_score,\n",
        "#                            cv=skf, return_train_score=True, n_jobs=-1)\n",
        "    \n",
        "#     grid_search.fit(trainingFeatureVecs, trainingFrame_classifiers)\n",
        "\n",
        "#     # make the predictions\n",
        "#     y_pred = grid_search.predict(validationFeatureVecs)\n",
        "\n",
        "#     print('Best params for {}'.format(refit_score))\n",
        "#     print(grid_search.best_params_)\n",
        "\n",
        "#     # confusion matrix on the test data.\n",
        "#     print('\\nConfusion matrix of Random Forest optimized for {} on the test data:'.format(refit_score))\n",
        "#     print(pd.DataFrame(confusion_matrix(y_test, y_pred),\n",
        "#                  columns=['pred_neg', 'pred_pos'], index=['neg', 'pos']))\n",
        "#     return grid_search\n",
        "\n",
        "\n",
        "# grid_search_clf = grid_search_wrapper()"
      ],
      "execution_count": 0,
      "outputs": []
    }
  ]
}